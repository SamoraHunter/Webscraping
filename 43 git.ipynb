{
 "cells": [
  {
   "cell_type": "code",
   "execution_count": 1,
   "metadata": {},
   "outputs": [],
   "source": [
    "import selenium\n",
    "import selenium.webdriver\n",
    "from selenium import webdriver\n",
    "from selenium.webdriver.firefox.firefox_profile import FirefoxProfile\n",
    "from selenium.webdriver.firefox.firefox_binary import FirefoxBinary\n",
    "import time\n",
    "import stem\n",
    "from stem import Signal\n",
    "from stem.control import Controller\n",
    "from selenium.webdriver.common.keys import Keys\n",
    "#selenium.__version__\n",
    "import timeit\n",
    "import time\n",
    "from IPython.display import clear_output\n",
    "import pandas as pd\n",
    "from pandas import Series, DataFrame\n",
    "import ipywidgets as widgets\n",
    "import panel as pn\n",
    "import altair as alt\n",
    "from altair import datum\n",
    "import datetime as dt\n",
    "import ipywidgets as widgets\n",
    "from ipywidgets import interactive"
   ]
  },
  {
   "cell_type": "code",
   "execution_count": 2,
   "metadata": {},
   "outputs": [],
   "source": [
    "profile = webdriver.FirefoxProfile()\n",
    "profile.set_preference(\"browser.privatebrowsing.autostart\", True)\n",
    "profile.set_preference('network.proxy.type', 1)\n",
    "profile.set_preference('network.proxy.socks', '127.0.0.1')\n",
    "profile.set_preference('network.proxy.socks_port', 9150)\n",
    "#driver = webdriver.Firefox(profile)\n",
    "#firefox_profile=profile, executable_path=r\"C:\\Users\\USERNAME\\Downloads\\geckodriver-v0.26.0-win64 (1)\\geckodriver.exe\""
   ]
  },
  {
   "cell_type": "code",
   "execution_count": 3,
   "metadata": {},
   "outputs": [],
   "source": [
    "#IP checkwebsite:\n",
    "\n",
    "IPCHECKSITE = 'http://checkip.amazonaws.com/'\n",
    "#IPCHECKSITE = \"https://www.icanhazip.com\""
   ]
  },
  {
   "cell_type": "code",
   "execution_count": 4,
   "metadata": {},
   "outputs": [],
   "source": [
    "n = [] #Get number of instances desired\n",
    "n = 1\n",
    "if n == []:\n",
    "    n = input(\"Number of instances\")"
   ]
  },
  {
   "cell_type": "code",
   "execution_count": 5,
   "metadata": {},
   "outputs": [],
   "source": [
    "driverlist = []                     #Generate list of driver variable names\n",
    "for dl in range(n): \n",
    "    driverlist.append(\"driver\" + str(dl))\n",
    "    "
   ]
  },
  {
   "cell_type": "code",
   "execution_count": null,
   "metadata": {},
   "outputs": [],
   "source": []
  },
  {
   "cell_type": "code",
   "execution_count": 6,
   "metadata": {},
   "outputs": [],
   "source": [
    "def switchIP():\n",
    "    with Controller.from_port(port=9151) as controller: #Get new IP for TOR\n",
    "        controller.authenticate()\n",
    "        controller.signal(Signal.NEWNYM)"
   ]
  },
  {
   "cell_type": "code",
   "execution_count": 7,
   "metadata": {},
   "outputs": [],
   "source": [
    "#Generate driver variables\n",
    "for d in range(len(driverlist)):   \n",
    "    driverlist[d]= webdriver.Firefox(profile)"
   ]
  },
  {
   "cell_type": "code",
   "execution_count": 8,
   "metadata": {},
   "outputs": [],
   "source": [
    "for d in range(len(driverlist)):\n",
    "\n",
    "    def killimage(d):\n",
    "        driverlist(d).execute_script(\n",
    "       'document.querySelectorAll(\"img\").forEach(function(ev){ev.remove()});');\n",
    "\n",
    "    def killhead(d):\n",
    "        driver(d).execute_script(\n",
    "       \"document.head.parentNode.removeChild(document.head)\"\n",
    "    );\n",
    "\n",
    "    #def esc():\n",
    "        #driver.find_element_by_tag_name('body').send_keys(Keys.ESCAPE)\n",
    "        #webdriver.ActionChains(driver).send_keys(Keys.ESCAPE).perform()\n",
    "\n",
    "    def kb():\n",
    "        ;killimage();killhead(); #esc();\n",
    "    \n",
    "\n",
    "    \n"
   ]
  },
  {
   "cell_type": "code",
   "execution_count": 9,
   "metadata": {},
   "outputs": [],
   "source": [
    "addyList = []  #********************ADDRESSES***************************\n",
    "maxLengthList = 0\n",
    "item = []\n",
    "\n",
    "\n",
    "#Prefilled address list:\n",
    "#addyList = ['',\n",
    "# '',\n",
    " #'',\n",
    " #'',\n",
    " #'']\n",
    "\n",
    "addyList = [\"\"]\n",
    "\n",
    "\n",
    "#Address list for manual adding\n",
    "while len(addyList) < maxLengthList and item != \"end\":\n",
    "    item = input(\"Enter your Item to the List: \")\n",
    "    addyList.append(item)"
   ]
  },
  {
   "cell_type": "code",
   "execution_count": 10,
   "metadata": {
    "scrolled": true
   },
   "outputs": [],
   "source": [
    "for d in range(len(driverlist)):\n",
    "    driverlist[d].get(addyList[0])\n",
    "    #???????????????????????????????????????????????"
   ]
  },
  {
   "cell_type": "code",
   "execution_count": null,
   "metadata": {},
   "outputs": [
    {
     "data": {
      "text/plain": [
       "'Current number of pages:'"
      ]
     },
     "metadata": {},
     "output_type": "display_data"
    },
    {
     "data": {
      "text/plain": [
       "1"
      ]
     },
     "metadata": {},
     "output_type": "display_data"
    },
    {
     "data": {
      "text/plain": [
       "'Number of unique IPs:'"
      ]
     },
     "metadata": {},
     "output_type": "display_data"
    },
    {
     "data": {
      "text/plain": [
       "386"
      ]
     },
     "metadata": {},
     "output_type": "display_data"
    },
    {
     "data": {
      "text/plain": [
       "'Average iteration time:'"
      ]
     },
     "metadata": {},
     "output_type": "display_data"
    },
    {
     "data": {
      "text/plain": [
       "29.52533192646936"
      ]
     },
     "metadata": {},
     "output_type": "display_data"
    },
    {
     "data": {
      "text/html": [
       "<div>\n",
       "<style scoped>\n",
       "    .dataframe tbody tr th:only-of-type {\n",
       "        vertical-align: middle;\n",
       "    }\n",
       "\n",
       "    .dataframe tbody tr th {\n",
       "        vertical-align: top;\n",
       "    }\n",
       "\n",
       "    .dataframe thead th {\n",
       "        text-align: right;\n",
       "    }\n",
       "</style>\n",
       "<table border=\"1\" class=\"dataframe\">\n",
       "  <thead>\n",
       "    <tr style=\"text-align: right;\">\n",
       "      <th></th>\n",
       "      <th>Average time</th>\n",
       "      <th>IPs</th>\n",
       "    </tr>\n",
       "  </thead>\n",
       "  <tbody>\n",
       "    <tr>\n",
       "      <td>0</td>\n",
       "      <td>26.1641</td>\n",
       "      <td>185.220.101.30</td>\n",
       "    </tr>\n",
       "    <tr>\n",
       "      <td>1</td>\n",
       "      <td>18.0969</td>\n",
       "      <td>185.220.101.12</td>\n",
       "    </tr>\n",
       "    <tr>\n",
       "      <td>2</td>\n",
       "      <td>15.1272</td>\n",
       "      <td>89.163.239.216</td>\n",
       "    </tr>\n",
       "    <tr>\n",
       "      <td>3</td>\n",
       "      <td>14.8876</td>\n",
       "      <td>162.247.74.7</td>\n",
       "    </tr>\n",
       "    <tr>\n",
       "      <td>4</td>\n",
       "      <td>15.4949</td>\n",
       "      <td>185.220.100.248</td>\n",
       "    </tr>\n",
       "    <tr>\n",
       "      <td>...</td>\n",
       "      <td>...</td>\n",
       "      <td>...</td>\n",
       "    </tr>\n",
       "    <tr>\n",
       "      <td>380</td>\n",
       "      <td>29.0893</td>\n",
       "      <td>94.140.114.16</td>\n",
       "    </tr>\n",
       "    <tr>\n",
       "      <td>381</td>\n",
       "      <td>29.061</td>\n",
       "      <td>195.154.106.148</td>\n",
       "    </tr>\n",
       "    <tr>\n",
       "      <td>382</td>\n",
       "      <td>29.2468</td>\n",
       "      <td>199.249.230.66</td>\n",
       "    </tr>\n",
       "    <tr>\n",
       "      <td>383</td>\n",
       "      <td>29.5907</td>\n",
       "      <td>144.217.108.10</td>\n",
       "    </tr>\n",
       "    <tr>\n",
       "      <td>384</td>\n",
       "      <td>29.5558</td>\n",
       "      <td>82.118.21.59</td>\n",
       "    </tr>\n",
       "  </tbody>\n",
       "</table>\n",
       "<p>385 rows × 2 columns</p>\n",
       "</div>"
      ],
      "text/plain": [
       "    Average time              IPs\n",
       "0        26.1641   185.220.101.30\n",
       "1        18.0969   185.220.101.12\n",
       "2        15.1272   89.163.239.216\n",
       "3        14.8876     162.247.74.7\n",
       "4        15.4949  185.220.100.248\n",
       "..           ...              ...\n",
       "380      29.0893    94.140.114.16\n",
       "381       29.061  195.154.106.148\n",
       "382      29.2468   199.249.230.66\n",
       "383      29.5907   144.217.108.10\n",
       "384      29.5558     82.118.21.59\n",
       "\n",
       "[385 rows x 2 columns]"
      ]
     },
     "metadata": {},
     "output_type": "display_data"
    }
   ],
   "source": [
    "\n",
    "\n",
    "\n",
    "#driver.get(addyList[1]) \n",
    "\n",
    "\n",
    "start_time = time.time()\n",
    "\n",
    "IPlist = []\n",
    "\n",
    "data = []\n",
    "df = pd.DataFrame(data, columns = ['Average time', 'IPs']) \n",
    "\n",
    "\n",
    "\n",
    "\n",
    "for x in range(100000):\n",
    "    \n",
    "    \n",
    "    for d in range(len(driverlist)):\n",
    "        \n",
    "        switchIP(); driverlist[d].refresh()\n",
    "\n",
    "\n",
    "\n",
    "        driverlist[d].get(IPCHECKSITE)\n",
    "\n",
    "        currentip = driverlist[d].find_element_by_tag_name('pre').text\n",
    "\n",
    "        while currentip in IPlist:\n",
    "            switchIP() ; time.sleep(1);\n",
    "            driverlist[d].get(IPCHECKSITE) ;time.sleep(1)\n",
    "            driverlist[d].refresh()\n",
    "            currentip = driverlist[d].find_element_by_tag_name('pre').text ;time.sleep(1)\n",
    "\n",
    "        IPlist.append(currentip)\n",
    "        clear_output()\n",
    "        display(\"Current number of pages:\", len(addyList))\n",
    "        display(\"Number of unique IPs:\", len(IPlist))\n",
    "        #display(\"Current total runtime:\", (time.time())\n",
    "        display(\"Average iteration time:\", (time.time() - start_time)/len(IPlist))\n",
    "        #data.append((time.time() - start_time)/len(IPlist)), IPlist))\n",
    "        display(df)\n",
    "        averagetime = ((time.time() - start_time)/len(IPlist))\n",
    "\n",
    "        df.loc[x, 'IPs'] = currentip\n",
    "        df.loc[x, 'Average time'] = averagetime\n",
    "\n",
    "\n",
    "        for address in addyList: \n",
    "\n",
    "            #switchIP()\n",
    "            #time.sleep(1)\n",
    "            driverlist[d].get(address) #;kb\n",
    "            #could add interval check\n",
    "            if driverlist[d].page_source.find(\">ERROR</h3>\") != -1:\n",
    "                print(\"Not found\")\n",
    "                todelete = driverlist[d].current_url \n",
    "                if todelete in addyList: \n",
    "                    addyList.remove(todelete)\n",
    "                #kb;    \n",
    "            #driver.refresh() ;kb\n",
    "            \n",
    "        if len(addyList) == 0:\n",
    "            print(\"End\")\n",
    "            break\n",
    "            \n",
    "    "
   ]
  },
  {
   "cell_type": "code",
   "execution_count": null,
   "metadata": {},
   "outputs": [],
   "source": [
    "def main():\n",
    "    start_time = time.time()\n",
    "\n",
    "IPlist = []\n",
    "\n",
    "data = []\n",
    "df = pd.DataFrame(data, columns = ['Average time', 'IPs']) \n",
    "\n",
    "\n",
    "\n",
    "\n",
    "for x in range(100000):\n",
    "    \n",
    "    \n",
    "    for d in range(len(driverlist)):\n",
    "        \n",
    "        switchIP(); driverlist[d].refresh()\n",
    "\n",
    "\n",
    "\n",
    "        driverlist[d].get(IPCHECKSITE)\n",
    "\n",
    "        currentip = driverlist[d].find_element_by_tag_name('pre').text\n",
    "\n",
    "        while currentip in IPlist:\n",
    "            switchIP() ; time.sleep(1);\n",
    "            driverlist[d].get(IPCHECKSITE) ;time.sleep(1)\n",
    "            driverlist[d].refresh()\n",
    "            currentip = driverlist[d].find_element_by_tag_name('pre').text ;time.sleep(1)\n",
    "\n",
    "        IPlist.append(currentip)\n",
    "        clear_output()\n",
    "        display(\"Current number of pages:\", len(addyList))\n",
    "        display(\"Number of unique IPs:\", len(IPlist))\n",
    "        #display(\"Current total runtime:\", (time.time())\n",
    "        display(\"Average iteration time:\", (time.time() - start_time)/len(IPlist))\n",
    "        #data.append((time.time() - start_time)/len(IPlist)), IPlist))\n",
    "        display(df)\n",
    "        averagetime = ((time.time() - start_time)/len(IPlist))\n",
    "\n",
    "        df.loc[x, 'IPs'] = currentip\n",
    "        df.loc[x, 'Average time'] = averagetime\n",
    "\n",
    "\n",
    "        for address in addyList: \n",
    "\n",
    "            #switchIP()\n",
    "            #time.sleep(1)\n",
    "            driverlist[d].get(address) #;kb\n",
    "            #could add interval check\n",
    "            if driverlist[d].page_source.find(\">ERROR</h3>\") != -1:\n",
    "                print(\"Image not found\")\n",
    "                todelete = driverlist[d].current_url \n",
    "                if todelete in addyList: \n",
    "                    addyList.remove(todelete)\n",
    "                #kb;    \n",
    "            #driver.refresh() ;kb\n",
    "            \n",
    "        if len(addyList) == 0:\n",
    "            print(\"all banned stripped\")\n",
    "            driver.quit()\n",
    "            driver.close()\n",
    "            end()\n",
    "            break\n",
    "return"
   ]
  },
  {
   "cell_type": "code",
   "execution_count": null,
   "metadata": {},
   "outputs": [],
   "source": [
    "\n"
   ]
  },
  {
   "cell_type": "code",
   "execution_count": null,
   "metadata": {},
   "outputs": [],
   "source": [
    "main()"
   ]
  },
  {
   "cell_type": "code",
   "execution_count": null,
   "metadata": {},
   "outputs": [],
   "source": []
  }
 ],
 "metadata": {
  "kernelspec": {
   "display_name": "Python 3",
   "language": "python",
   "name": "python3"
  },
  "language_info": {
   "codemirror_mode": {
    "name": "ipython",
    "version": 3
   },
   "file_extension": ".py",
   "mimetype": "text/x-python",
   "name": "python",
   "nbconvert_exporter": "python",
   "pygments_lexer": "ipython3",
   "version": "3.7.4"
  },
  "varInspector": {
   "cols": {
    "lenName": 16,
    "lenType": 16,
    "lenVar": 40
   },
   "kernels_config": {
    "python": {
     "delete_cmd_postfix": "",
     "delete_cmd_prefix": "del ",
     "library": "var_list.py",
     "varRefreshCmd": "print(var_dic_list())"
    },
    "r": {
     "delete_cmd_postfix": ") ",
     "delete_cmd_prefix": "rm(",
     "library": "var_list.r",
     "varRefreshCmd": "cat(var_dic_list()) "
    }
   },
   "types_to_exclude": [
    "module",
    "function",
    "builtin_function_or_method",
    "instance",
    "_Feature"
   ],
   "window_display": false
  }
 },
 "nbformat": 4,
 "nbformat_minor": 2
}
